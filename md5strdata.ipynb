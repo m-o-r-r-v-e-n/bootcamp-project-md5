import hashlib
hash_obj = hashlib.md5(b'Hello World')
print(hash_obj.hexdigest())
